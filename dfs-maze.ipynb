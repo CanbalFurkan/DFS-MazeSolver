{
  "nbformat": 4,
  "nbformat_minor": 0,
  "metadata": {
    "colab": {
      "name": "canbalfurkan-hw5.ipynb",
      "provenance": [],
      "collapsed_sections": [],
      "toc_visible": true
    },
    "kernelspec": {
      "name": "python3",
      "display_name": "Python 3"
    }
  },
  "cells": [
    {
      "cell_type": "markdown",
      "metadata": {
        "id": "nPPCRNIS5GVx"
      },
      "source": [
        "# Programming homework for searching algorithms\n",
        "\n",
        "The problem is to provide a solution path to the maze with Depth First Search algorithm.\n",
        "\n",
        "As specified in assignments,\n",
        "*   Copy this notebook from the tab \"File > Save a copy in Drive\"\n",
        "*   Open the notebook that copied to your drive\n",
        "*   Go the drive folder that shared with the [link](https://drive.google.com/drive/folders/1D9mMXPrwydQnR0JT_0pf2W-rO4Bw1pGB?usp=sharing)\n",
        "*   Add the shared folder to your drive to access it from the notebook.\n",
        "\n",
        "\n",
        "\n",
        "The problem specifications:\n",
        "\n",
        "*   Initial position for all the multiple mazes that read is the point **\"(0,0)\"**\n",
        "*   Goal is to reach the max point **\"(N-1, M-1)\"**, where N and M corresponds to the height and width of the maze.\n",
        "*   The multiple mazes will be read from the file that is provided in the drive file shared with you\n",
        "*   The maze consists of **0**s and **1**s which **0s indicate a clear path** and **1s indicate a wall** that can not be moved\n",
        "*   To reach to the goal, you are required to provide a path consist of clear roads(0s)\n",
        "*   The reading and converting the path to the desired outputs have already been implemented which you **CANNOT** change in order to get full credits\n",
        "*   The exact outputs that your function expected to provide are printed it in the last code block given the expected output file.\n",
        "*   You need the provide the required function(s) that finds the path from initial position to the goal position using **Depth First Search**, which you may implement it with stack or recursively as you wish.\n",
        "\n",
        "\n",
        "The submission:\n",
        "*    Run all the code blocks after you finished your homework\n",
        "*    Download and submit the .ipynb file from the tab \"File > Download .ipynb\"\n",
        "\n",
        "\n",
        "For example, the solve_dfs function will take maze parameter as:\n",
        "\n",
        "\n",
        "```\n",
        "maze = [[0,0,0,0,0,0],\n",
        "        [0,1,0,0,0,0],\n",
        "        [0,0,1,1,1,0],\n",
        "        [0,0,0,0,0,0],\n",
        "        [1,0,0,0,1,0]]   \n",
        "```\n",
        "\n",
        "The returned path should be:\n",
        "\n",
        "\n",
        "\n",
        "```\n",
        "path => [(0, 0), (0, 1), (0, 2), (0, 3), (0, 4), (0, 5), (1, 5), (2, 5), (3, 5), (4, 5)]\n",
        "```\n",
        "\n",
        "where (x, y) is tuples.\n",
        "\n",
        "\n",
        "The directions extracted from this path is:\n",
        "\n",
        "\n",
        "\n",
        "```\n",
        "direction => R R R R R D D D D\n",
        "```\n"
      ]
    },
    {
      "cell_type": "markdown",
      "metadata": {
        "id": "4iucch5nca58"
      },
      "source": [
        "### Mount your drive to access the files"
      ]
    },
    {
      "cell_type": "code",
      "metadata": {
        "id": "XwdWMs1Ncems",
        "colab": {
          "base_uri": "https://localhost:8080/",
          "height": 118
        },
        "outputId": "8914dcb3-a0ed-4c07-e557-20cb46ccb77c"
      },
      "source": [
        "from google.colab import drive\n",
        "drive.mount('/content/drive', force_remount=True)"
      ],
      "execution_count": null,
      "outputs": [
        {
          "output_type": "stream",
          "text": [
            "Go to this URL in a browser: https://accounts.google.com/o/oauth2/auth?client_id=947318989803-6bn6qk8qdgf4n4g3pfee6491hc0brc4i.apps.googleusercontent.com&redirect_uri=urn%3aietf%3awg%3aoauth%3a2.0%3aoob&response_type=code&scope=email%20https%3a%2f%2fwww.googleapis.com%2fauth%2fdocs.test%20https%3a%2f%2fwww.googleapis.com%2fauth%2fdrive%20https%3a%2f%2fwww.googleapis.com%2fauth%2fdrive.photos.readonly%20https%3a%2f%2fwww.googleapis.com%2fauth%2fpeopleapi.readonly\n",
            "\n",
            "Enter your authorization code:\n",
            "··········\n",
            "Mounted at /content/drive\n"
          ],
          "name": "stdout"
        }
      ]
    },
    {
      "cell_type": "markdown",
      "metadata": {
        "id": "E9W5h_rdAemG"
      },
      "source": [
        "### Modules that needed (You won't need any other module to implement the search algorithm)"
      ]
    },
    {
      "cell_type": "code",
      "metadata": {
        "id": "AoPnY9oS4Nw4"
      },
      "source": [
        "import collections\n",
        "import numpy as np"
      ],
      "execution_count": null,
      "outputs": []
    },
    {
      "cell_type": "markdown",
      "metadata": {
        "id": "w0qxazLRApog"
      },
      "source": [
        "### Functions that already implemented"
      ]
    },
    {
      "cell_type": "code",
      "metadata": {
        "id": "WanwgivwAXuM"
      },
      "source": [
        "def read_mazes(input_file):\n",
        "    mazes = []\n",
        "\n",
        "    with open(input_file, 'r') as maze_file:\n",
        "        maze = []\n",
        "        \n",
        "        for line in maze_file:\n",
        "            if line != '\\n':\n",
        "                maze.append(line.replace('\\n','').split(','))\n",
        "            else:\n",
        "                mazes.append(np.array(maze, dtype=int))\n",
        "                maze = []\n",
        "\n",
        "        if len(maze) > 0:\n",
        "            mazes.append(np.array(maze, dtype=int))\n",
        "    \n",
        "    return mazes"
      ],
      "execution_count": null,
      "outputs": []
    },
    {
      "cell_type": "code",
      "metadata": {
        "id": "DhiedC0gAdnQ"
      },
      "source": [
        "def get_directions(path):\n",
        "    directions = \"\"\n",
        "\n",
        "    current_cell = path[0]\n",
        "\n",
        "    for cell in path[1:]:\n",
        "        if current_cell[0] == cell[0]:\n",
        "            if cell[1] - current_cell[1] > 0:\n",
        "                directions += \"R \"\n",
        "            else:\n",
        "                directions += \"L \"\n",
        "        else:\n",
        "            if cell[0] - current_cell[0] > 0:\n",
        "                directions += \"D \"\n",
        "            else:\n",
        "                directions += \"U \"\n",
        "        current_cell = cell\n",
        "\n",
        "    return directions.strip()"
      ],
      "execution_count": null,
      "outputs": []
    },
    {
      "cell_type": "markdown",
      "metadata": {
        "id": "VzL4kid-BAj9"
      },
      "source": [
        "### Depth First Search algorithm which you will implement \n",
        "\n",
        "\n",
        "\n",
        "*   **The function takes 2d numpy array maze as a single parameter**\n",
        "*   **Returns a list of points that starts from (0,0) an ends with (N-1,M-1)**\n",
        "*   **The direction priorities are as follows Right-Down-Left-Up**\n",
        "*   **Returns None if goal can not be reached from the initial position**\n",
        "*   Read the initial instructions if not clear\n",
        "\n",
        "Also, you can implement multiple functions as you like or just use this function.\n",
        "\n",
        "**HOWEVER**, the **solve_dfs** function name **MUST** remain same and **MUST** take a **single parameter maze**\n",
        "\n",
        "So, any other functions that you would fine it useful should be called from inside the solve_dfs function"
      ]
    },
    {
      "cell_type": "code",
      "metadata": {
        "id": "_qphKwkfA_AM"
      },
      "source": [
        "def solve_dfs(maze):\n",
        "    start = (0, 0)\n",
        "    goal = (maze.shape[0]-1, maze.shape[1]-1)\n",
        "    width = maze.shape[0]\n",
        "    height = maze.shape[1]\n",
        "    path=[]\n",
        "    maze[0][0]=1\n",
        "    path.append(start)\n",
        "    solve_dfs_2(start,width,height,path,maze,goal)\n",
        "    if path==[]:\n",
        "      return None\n",
        "    else:\n",
        "      return path\n",
        "\n",
        "def solve_dfs_2(node,width,height,path,maze,goal):\n",
        "  if node == goal:\n",
        "    return True\n",
        "  elif node_valid((node[0],node[1]+1),width,height,maze)==True:\n",
        "    node=(node[0],node[1]+1)\n",
        "    maze[node[0]][node[1]]=1\n",
        "    path.append(node)\n",
        "    solve_dfs_2(node,width,height,path,maze,goal)\n",
        "  elif node_valid((node[0]+1,node[1]),width,height,maze)==True:\n",
        "    node=(node[0]+1,node[1])\n",
        "    maze[node[0]][node[1]]=1\n",
        "    path.append(node)\n",
        "    solve_dfs_2(node,width,height,path,maze,goal)\n",
        "  elif node_valid((node[0],node[1]-1),width,height,maze)==True:\n",
        "    node=(node[0],node[1]-1)\n",
        "    maze[node[0]][node[1]]=1\n",
        "    path.append(node)\n",
        "    solve_dfs_2(node,width,height,path,maze,goal)\n",
        "  elif node_valid((node[0]-1,node[1]),width,height,maze)==True:\n",
        "     node=(node[0]-1,node[1])\n",
        "     maze[node[0]][node[1]]=1\n",
        "     path.append(node)\n",
        "     solve_dfs_2(node,width,height,path,maze,goal)\n",
        "  elif path==[]:\n",
        "    path=[]\n",
        "  else:\n",
        "    path.pop()\n",
        "    for i in range(0, len(path)):\n",
        "         if i == (len(path)-1): \n",
        "           node=path[i]\n",
        "      \n",
        "      \n",
        "    solve_dfs_2(node,width,height,path,maze,goal)\n",
        "  \n",
        "\n",
        "def node_valid(node,width,height,maze):\n",
        "\n",
        "  if (node[0]<0) or (node[0] >= width) or (node[1]<0) or (node[1]>=height) or maze[node[0]][node[1]]==1:\n",
        "    return False\n",
        "  else:\n",
        "    return True\n",
        "   \n",
        "  \n",
        "\n",
        "  \n",
        "  \n",
        "        \n",
        "                    \n",
        "    ### You may define this solve_dfs function in any way you want or just use this function. "
      ],
      "execution_count": null,
      "outputs": []
    },
    {
      "cell_type": "markdown",
      "metadata": {
        "id": "--OJNEf3EZzg"
      },
      "source": [
        "### Main code block that reads the mazes, run the search algorithm and returns the path and prints the directions that reach to the goal"
      ]
    },
    {
      "cell_type": "code",
      "metadata": {
        "id": "bEEXOvF-EUI1",
        "colab": {
          "base_uri": "https://localhost:8080/",
          "height": 525
        },
        "outputId": "ba3b9b84-b150-4a1b-a91a-75a52903b247"
      },
      "source": [
        "mazes = read_mazes('/content/drive/My Drive/CS404_DFS_HW/input.txt')\n",
        "\n",
        "for maze, ind in zip(mazes, range(1, len(mazes)+1)):\n",
        "    path = solve_dfs(maze)\n",
        "    print(path)\n",
        "\n",
        "    if path != None:\n",
        "        directions = get_directions(path)\n",
        "        print(str(ind) + \") \" + directions + '\\n')\n",
        "    else:\n",
        "        print(str(ind) + ') Could not find a path...\\n')"
      ],
      "execution_count": null,
      "outputs": [
        {
          "output_type": "stream",
          "text": [
            "[(0, 0), (0, 1), (0, 2), (0, 3), (0, 4), (0, 5), (0, 6), (0, 7), (0, 8), (0, 9), (1, 9), (2, 9), (2, 8), (3, 8), (4, 8), (4, 9)]\n",
            "1) R R R R R R R R R D D L D D R\n",
            "\n",
            "[(0, 0), (1, 0), (2, 0), (2, 1), (3, 1), (3, 2), (3, 3), (3, 4), (4, 4)]\n",
            "2) D D R D R R R D\n",
            "\n",
            "[(0, 0), (0, 1), (0, 2), (1, 2), (1, 1), (2, 1), (2, 0), (3, 0), (4, 0), (4, 1), (4, 2), (3, 2), (3, 3), (2, 3), (2, 4), (2, 5), (3, 5), (4, 5), (5, 5), (5, 6), (5, 7), (4, 7), (3, 7), (2, 7), (1, 7), (0, 7), (0, 8), (0, 9), (1, 9), (2, 9), (3, 9), (4, 9), (5, 9), (6, 9)]\n",
            "3) R R D L D L D D R R U R U R R D D D R R U U U U U R R D D D D D D\n",
            "\n",
            "[(0, 0), (1, 0), (2, 0), (2, 1), (3, 1), (3, 2), (3, 3), (3, 4), (4, 4)]\n",
            "4) D D R D R R R D\n",
            "\n",
            "None\n",
            "5) Could not find a path...\n",
            "\n",
            "[(0, 0), (0, 1), (0, 2), (0, 3), (0, 4), (0, 5), (1, 5), (2, 5), (3, 5), (4, 5)]\n",
            "6) R R R R R D D D D\n",
            "\n",
            "[(0, 0), (0, 1), (0, 2), (1, 2), (1, 1), (2, 1), (2, 0), (3, 0), (4, 0), (4, 1), (4, 2), (4, 3), (3, 3), (2, 3), (2, 4), (2, 5), (3, 5), (3, 6), (3, 7), (3, 8), (4, 8), (5, 8)]\n",
            "7) R R D L D L D D R R R U U R R D R R R D D\n",
            "\n",
            "[(0, 0), (1, 0), (1, 1), (1, 2), (1, 3), (1, 4), (0, 4), (0, 5), (0, 6), (0, 7), (1, 7), (1, 8), (1, 9), (1, 10), (1, 11), (2, 11), (2, 12), (2, 13), (3, 13), (3, 14), (3, 15), (3, 16), (3, 17), (3, 18), (3, 19), (2, 19), (2, 20), (1, 20), (0, 20), (0, 21), (0, 22), (0, 23), (0, 24), (0, 25), (0, 26), (1, 26), (2, 26), (3, 26), (3, 27), (3, 28), (4, 28), (5, 28), (5, 27), (5, 26), (6, 26), (6, 25), (6, 24), (6, 23), (7, 23), (8, 23), (8, 22), (9, 22), (10, 22), (10, 23), (11, 23), (11, 24), (11, 25), (11, 26), (11, 27), (11, 28), (12, 28), (13, 28), (13, 29), (14, 29)]\n",
            "8) D R R R R U R R R D R R R R D R R D R R R R R R U R U U R R R R R R D D D R R D D L L D L L L D D L D D R D R R R R R D D R D\n",
            "\n",
            "[(0, 0), (0, 1), (0, 2), (0, 3), (0, 4), (0, 5), (0, 6), (1, 6), (1, 7), (1, 8), (1, 9), (1, 10), (1, 11), (2, 11), (2, 12), (3, 12), (3, 13), (3, 14), (3, 15), (3, 16), (3, 17), (3, 18), (4, 18), (4, 19), (5, 19), (5, 18), (6, 18), (6, 17), (7, 17), (8, 17), (8, 16), (8, 15), (7, 15), (7, 16), (6, 16), (6, 15), (6, 14), (6, 13), (7, 13), (8, 13), (9, 13), (9, 12), (9, 11), (9, 10), (10, 10), (11, 10), (11, 11), (11, 12), (11, 13), (12, 13), (13, 13), (13, 14), (13, 15), (13, 16), (13, 17), (13, 18), (13, 19), (14, 19), (15, 19), (16, 19), (16, 18), (16, 17), (17, 17), (18, 17), (18, 18), (19, 18), (19, 19), (20, 19), (21, 19), (22, 19), (23, 19), (23, 18), (24, 18), (25, 18), (26, 18), (26, 19), (27, 19), (27, 18), (28, 18), (29, 18), (29, 19)]\n",
            "9) R R R R R R D R R R R R D R D R R R R R R D R D L D L D D L L U R U L L L D D D L L L D D R R R D D R R R R R R D D D L L D D R D R D D D D L D D D R D L D D R\n",
            "\n",
            "[(0, 0), (1, 0), (1, 1), (2, 1), (3, 1), (4, 1), (5, 1), (6, 1), (6, 2), (6, 3), (7, 3), (8, 3), (8, 2), (8, 1), (9, 1), (10, 1), (10, 2), (11, 2), (11, 3), (11, 4), (11, 5), (12, 5), (12, 4), (13, 4), (14, 4), (14, 5), (14, 6), (14, 7), (14, 8), (14, 9), (14, 10), (15, 10), (15, 9), (16, 9), (17, 9), (17, 10), (17, 11), (17, 12), (17, 13), (18, 13), (18, 12), (18, 11), (19, 11), (20, 11), (20, 12), (21, 12), (21, 13), (22, 13), (22, 14), (22, 15), (22, 16), (22, 17), (22, 18), (22, 19), (22, 20), (22, 21), (22, 22), (22, 23), (22, 24), (22, 25), (22, 26), (23, 26), (24, 26), (24, 27), (24, 28), (24, 29), (25, 29), (26, 29), (27, 29), (28, 29), (29, 29)]\n",
            "10) D R D D D D D R R D D L L D D R D R R R D L D D R R R R R R D L D D R R R R D L L D D R D R D R R R R R R R R R R R R R D D R R R D D D D D\n",
            "\n"
          ],
          "name": "stdout"
        }
      ]
    },
    {
      "cell_type": "markdown",
      "metadata": {
        "id": "45lkcxRjMg_o"
      },
      "source": [
        "### Expected output that your algorithm should print"
      ]
    },
    {
      "cell_type": "code",
      "metadata": {
        "id": "AqRZ-P9HMsFJ",
        "colab": {
          "base_uri": "https://localhost:8080/",
          "height": 342
        },
        "outputId": "c95648ac-c2ff-4bec-ccdf-bc9b5590682e"
      },
      "source": [
        "with open('/content/drive/My Drive/CS404_DFS_HW/expected_output.txt') as expected_output:\n",
        "    for expected_direction, ind in zip(expected_output, range(1, len(mazes)+1)):\n",
        "        print(str(ind) + ') ' + expected_direction)"
      ],
      "execution_count": null,
      "outputs": [
        {
          "output_type": "stream",
          "text": [
            "1) R R R R R R R R R D D L D D R\n",
            "\n",
            "2) D D R D R R R D\n",
            "\n",
            "3) R R D L D L D D R R U R U R R D D D R R U U U U U R R D D D D D D\n",
            "\n",
            "4) D D R D R R R D\n",
            "\n",
            "5) Could not find a path...\n",
            "\n",
            "6) R R R R R D D D D\n",
            "\n",
            "7) R R D L D L D D R R R U U R R D R R R D D\n",
            "\n",
            "8) D R R R R U R R R D R R R R D R R D R R R R R R U R U U R R R R R R D D D R R D D L L D L L L D D L D D R D R R R R R D D R D\n",
            "\n",
            "9) R R R R R R D R R R R R D R D R R R R R R D R D L D L D D L L U R U L L L D D D L L L D D R R R D D R R R R R R D D D L L D D R D R D D D D L D D D R D L D D R\n",
            "\n",
            "10) D R D D D D D R R D D L L D D R D R R R D L D D R R R R R R D L D D R R R R D L L D D R D R D R R R R R R R R R R R R R D D R R R D D D D D\n",
            "\n"
          ],
          "name": "stdout"
        }
      ]
    },
    {
      "cell_type": "code",
      "metadata": {
        "id": "UTg0zLS1NHTE"
      },
      "source": [
        ""
      ],
      "execution_count": null,
      "outputs": []
    }
  ]
}